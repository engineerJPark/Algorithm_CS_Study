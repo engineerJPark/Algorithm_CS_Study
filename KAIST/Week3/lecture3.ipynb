{
 "cells": [
  {
   "cell_type": "code",
   "execution_count": 6,
   "metadata": {},
   "outputs": [
    {
     "data": {
      "text/plain": [
       "['a', 'b', 'c', 'c', 'd', 'e', 'f']"
      ]
     },
     "execution_count": 6,
     "metadata": {},
     "output_type": "execute_result"
    }
   ],
   "source": [
    "x = ['a','b','c','d','e','f']\n",
    "idxInsert = 2\n",
    "valInsert = 'c'\n",
    "\n",
    "y = list(range(7))\n",
    "\n",
    "for itr in range(idxInsert): # copy\n",
    "  y[itr] = x[itr]\n",
    "  \n",
    "y[idxInsert] = valInsert # insert\n",
    "\n",
    "for itr in range(idxInsert, len(x)): # copy\n",
    "\ty[itr + 1] = x[itr]\n",
    "\n",
    "x = y\n",
    "x"
   ]
  },
  {
   "cell_type": "code",
   "execution_count": 4,
   "metadata": {},
   "outputs": [
    {
     "data": {
      "text/plain": [
       "['a', 'b', 'c', 'e', 'f']"
      ]
     },
     "execution_count": 4,
     "metadata": {},
     "output_type": "execute_result"
    }
   ],
   "source": [
    "x = ['a','b','c','d','e','f']\n",
    "idxDelete = 3\n",
    "\n",
    "y = list(range(5))\n",
    "\n",
    "for itr in range(0, idxDelete):\n",
    "    y[itr] = x[itr]\n",
    "    \n",
    "for itr in range(idxDelete + 1, len(x)):\n",
    "    y[itr - 1] = x[itr]\n",
    "    \n",
    "x = y\n",
    "x"
   ]
  },
  {
   "cell_type": "code",
   "execution_count": 3,
   "metadata": {},
   "outputs": [
    {
     "name": "stdout",
     "output_type": "stream",
     "text": [
      "[1, 2, 3]\n",
      "[100, [1, 2, 3], 120]\n",
      "[[1, 2, 3], 'a', 'b']\n",
      "[1, 1717, 3]\n",
      "[100, [1, 1717, 3], 120]\n",
      "[[1, 1717, 3], 'a', 'b']\n",
      "not eq\n",
      "not same place\n",
      "same place\n"
     ]
    }
   ],
   "source": [
    "x = [1,2,3]\n",
    "y = [100,x,120]\n",
    "z = [x, 'a', 'b']\n",
    "\n",
    "print(x)\n",
    "print(y)\n",
    "print(z)\n",
    "\n",
    "x[1] = 1717\n",
    "\n",
    "print(x)\n",
    "print(y)\n",
    "print(z)\n",
    "\n",
    "x[1] == 2\n",
    "x2 = [1,2,3]\n",
    "\n",
    "if x == x2:\n",
    "    print('eq')\n",
    "else:\n",
    "    print('not eq')\n",
    "\n",
    "if x is x2:\n",
    "    print('same place')\n",
    "else:\n",
    "    print('not same place')\n",
    "\n",
    "if x[1] == y[1][1]:\n",
    "    print('same place')\n",
    "else:\n",
    "    print('not same place')"
   ]
  },
  {
   "cell_type": "code",
   "execution_count": 5,
   "metadata": {},
   "outputs": [],
   "source": [
    "# Node Class implementation\n",
    "\n",
    "class Node:\n",
    "    nodeNext = ''\n",
    "    objValue = ''\n",
    "    binHead = False\n",
    "    binTail = False\n",
    "    \n",
    "    def __init__(self, objValue= '', nodeNext = '', binHead = False, binTail = False):\n",
    "        self.nodeNext = nodeNext\n",
    "        self.objValue = objValue\n",
    "        self.binHead = binHead\n",
    "        self.binTail = binTail\n",
    "        \n",
    "    def getValue(self):\n",
    "        return self.objValue\n",
    "    def setValue(self, objValue):\n",
    "        self.objValue = objValue\n",
    "    def getNext(self):\n",
    "        return self.nodeNext\n",
    "    def setNext(self, nodeNext):\n",
    "        self.nodeNext = nodeNext\n",
    "    def isHead(self):\n",
    "        return self.binHead\n",
    "    def isTail(self):\n",
    "        return self.binTail\n",
    "\n",
    "node1 = Node(objValue= 'a')\n",
    "nodeTail = Node(binTail=True)\n",
    "nodeHead = Node(binHead=True)"
   ]
  },
  {
   "cell_type": "code",
   "execution_count": null,
   "metadata": {},
   "outputs": [],
   "source": [
    "# Single Linked List\n",
    "\n",
    "class SinglyLinkedList:\n",
    "    nodeHead = ''"
   ]
  }
 ],
 "metadata": {
  "interpreter": {
   "hash": "b3ba2566441a7c06988d0923437866b63cedc61552a5af99d1f4fb67d367b25f"
  },
  "kernelspec": {
   "display_name": "Python 3.9.7 64-bit ('base': conda)",
   "language": "python",
   "name": "python3"
  },
  "language_info": {
   "codemirror_mode": {
    "name": "ipython",
    "version": 3
   },
   "file_extension": ".py",
   "mimetype": "text/x-python",
   "name": "python",
   "nbconvert_exporter": "python",
   "pygments_lexer": "ipython3",
   "version": "3.9.7"
  },
  "orig_nbformat": 4
 },
 "nbformat": 4,
 "nbformat_minor": 2
}
